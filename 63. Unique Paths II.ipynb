{
 "cells": [
  {
   "cell_type": "markdown",
   "metadata": {},
   "source": [
    "## Unique Paths II\n",
    "[Medium]\n",
    "\n",
    "A robot is located at the top-left corner of a m x n grid (marked 'Start' in the diagram below).\n",
    "\n",
    "The robot can only move either down or right at any point in time. The robot is trying to reach the bottom-right corner of the grid (marked 'Finish' in the diagram below).\n",
    "\n",
    "Now consider if some obstacles are added to the grids. How many unique paths would there be?\n",
    "\n",
    "\n",
    "![robot_maze](https://assets.leetcode.com/uploads/2018/10/22/robot_maze.png)\n",
    "An obstacle and empty space is marked as 1 and 0 respectively in the grid.\n",
    "\n",
    "Note: m and n will be at most 100.\n",
    "\n",
    "Example 1:\n",
    "\n",
    "Input:\n",
    "[\n",
    "  [0,0,0],\n",
    "  [0,1,0],\n",
    "  [0,0,0]\n",
    "]\n",
    "Output: 2\n",
    "Explanation:\n",
    "There is one obstacle in the middle of the 3x3 grid above.\n",
    "There are two ways to reach the bottom-right corner:\n",
    "1. Right -> Right -> Down -> Down\n",
    "2. Down -> Down -> Right -> Right\n"
   ]
  },
  {
   "cell_type": "code",
   "execution_count": null,
   "metadata": {},
   "outputs": [],
   "source": [
    "class Solution:\n",
    "    def uniquePathsWithObstacles(self, obstacleGrid: List[List[int]]) -> int:\n",
    "        ## one-line DP\n",
    "        n = len(obstacleGrid)\n",
    "        if n:\n",
    "            m = len(obstacleGrid[0])\n",
    "        else: m=0\n",
    "        if m*n == 0:\n",
    "            return 0\n",
    "        \n",
    "        dp = []\n",
    "        reachable = 1\n",
    "        for k in range(m):\n",
    "            if obstacleGrid[0][k] == 1:\n",
    "                reachable = 0\n",
    "            dp.append(reachable)\n",
    "        print(dp)\n",
    "        for i in range(1, n):\n",
    "            for j in range(0, m):\n",
    "                if obstacleGrid[i][j] == 1:\n",
    "                    print(i,j)\n",
    "                    dp[j] = 0\n",
    "                elif j>0:\n",
    "                    dp[j] += dp[j-1]\n",
    "            print(dp)\n",
    "        return dp[m-1]"
   ]
  }
 ],
 "metadata": {
  "kernelspec": {
   "display_name": "Python 3",
   "language": "python",
   "name": "python3"
  },
  "language_info": {
   "codemirror_mode": {
    "name": "ipython",
    "version": 3
   },
   "file_extension": ".py",
   "mimetype": "text/x-python",
   "name": "python",
   "nbconvert_exporter": "python",
   "pygments_lexer": "ipython3",
   "version": "3.6.5"
  }
 },
 "nbformat": 4,
 "nbformat_minor": 2
}
