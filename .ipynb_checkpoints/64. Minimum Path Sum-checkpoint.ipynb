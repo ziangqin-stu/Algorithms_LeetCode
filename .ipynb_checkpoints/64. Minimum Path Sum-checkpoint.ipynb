{
 "cells": [
  {
   "cell_type": "markdown",
   "metadata": {},
   "source": [
    "## Minimum Path Sum\n",
    "[Medium]\n",
    "\n",
    "Given a m x n grid filled with non-negative numbers, find a path from top left to bottom right which minimizes the sum of all numbers along its path.\n",
    "\n",
    "Note: You can only move either down or right at any point in time.\n",
    "\n",
    "Example:\n",
    "\n",
    "Input:\n",
    "[\n",
    "  [1,3,1],\n",
    "  [1,5,1],\n",
    "  [4,2,1]\n",
    "]\n",
    "Output: 7\n",
    "Explanation: Because the path 1→3→1→1→1 minimizes the sum."
   ]
  },
  {
   "cell_type": "code",
   "execution_count": null,
   "metadata": {},
   "outputs": [],
   "source": [
    "class Solution:\n",
    "    def minPathSum(self, grid: List[List[int]]) -> int:\n",
    "        ## one-line DP\n",
    "        n = len(grid)\n",
    "        if n:\n",
    "            m = len(grid[0])\n",
    "        else: m = 0\n",
    "        if m*n == 0:\n",
    "            return None\n",
    "        \n",
    "        for j in range(1, m):\n",
    "            grid[0][j] = grid[0][j] + grid[0][j-1]\n",
    "        for i in range(1, n):\n",
    "            grid[i][0] = grid[i][0] + grid[i-1][0]\n",
    "            for j in range(1, m):\n",
    "                grid[i][j] = grid[i][j] + min(grid[i-1][j], grid[i][j-1])\n",
    "        ## print(grid)\n",
    "        return grid[n-1][m-1]\n",
    "        "
   ]
  }
 ],
 "metadata": {
  "kernelspec": {
   "display_name": "Python 3",
   "language": "python",
   "name": "python3"
  },
  "language_info": {
   "codemirror_mode": {
    "name": "ipython",
    "version": 3
   },
   "file_extension": ".py",
   "mimetype": "text/x-python",
   "name": "python",
   "nbconvert_exporter": "python",
   "pygments_lexer": "ipython3",
   "version": "3.6.5"
  }
 },
 "nbformat": 4,
 "nbformat_minor": 2
}
